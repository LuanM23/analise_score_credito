{
 "cells": [
  {
   "cell_type": "code",
   "execution_count": null,
   "metadata": {},
   "outputs": [],
   "source": [
    "import pandas as pd\n",
    "\n",
    "tabela = pd.read_csv('clientes.csv')\n",
    "display(tabela)"
   ]
  },
  {
   "cell_type": "code",
   "execution_count": null,
   "metadata": {},
   "outputs": [],
   "source": [
    "print(tabela.info()) "
   ]
  },
  {
   "cell_type": "code",
   "execution_count": null,
   "metadata": {},
   "outputs": [],
   "source": [
    "#Preparar uma base de dados para a inteligência artificial\n",
    "#Como a IA pega o texto, transofrma em número e depois texto dnv, pegar as colunas de texto(object)\n",
    "#LabelEncoder\n",
    "from sklearn.preprocessing import LabelEncoder\n",
    "\n",
    "codificador = LabelEncoder()\n",
    "\n",
    "tabela['profissao'] = codificador.fit_transform(tabela['profissao'])\n",
    "tabela['mix_credito'] = codificador.fit_transform(tabela['mix_credito'])\n",
    "tabela['comportamento_pagamento'] = codificador.fit_transform(tabela['comportamento_pagamento'])"
   ]
  },
  {
   "cell_type": "code",
   "execution_count": null,
   "metadata": {},
   "outputs": [],
   "source": [
    "print(tabela.info()) "
   ]
  },
  {
   "cell_type": "code",
   "execution_count": null,
   "metadata": {},
   "outputs": [],
   "source": [
    "#separar as informações em dados de treino e dados de teste\n",
    "y = tabela['score_credito']\n",
    "#todas as colunas para fazer a previsão do score de crédito\n",
    "x = tabela.drop(['score_credito', 'id_cliente'], axis=1) \n",
    "\n",
    "from sklearn.model_selection import train_test_split\n",
    "\n",
    "x_treino, x_teste, y_treino, y_teste = train_test_split(x, y, test_size=0.3, random_state=1) #randomstate para ficar sempre na mesma\n",
    "\n"
   ]
  },
  {
   "cell_type": "code",
   "execution_count": null,
   "metadata": {},
   "outputs": [],
   "source": [
    "#Criar um modelo de IA -> Score de crédito: ruim, médio, bom\n",
    "#Árvore de decisão\n",
    "# KNN - nearest neighbors\n",
    "from sklearn.ensemble import RandomForestClassifier\n",
    "from sklearn.neighbors import KNeighborsClassifier\n",
    "\n",
    "modelo_arvoredecisao = RandomForestClassifier()\n",
    "modelo_knn = KNeighborsClassifier()\n",
    "\n",
    "modelo_arvoredecisao.fit(x_treino, y_treino)\n",
    "modelo_knn.fit(x_treino, y_treino)"
   ]
  },
  {
   "cell_type": "code",
   "execution_count": null,
   "metadata": {},
   "outputs": [],
   "source": [
    "#Escolhendo o melhor modelo\n",
    "#accuracy do modelo\n",
    "from sklearn.metrics import accuracy_score\n",
    "\n",
    "previsao_arvoredecisao = modelo_arvoredecisao.predict(x_teste)\n",
    "previsao_knn = modelo_knn.predict(x_teste.to_numpy()) #limitação do knn mesmo, transformar numpy\n",
    "\n",
    "\n",
    "print(accuracy_score(y_teste, previsao_arvoredecisao))\n",
    "print(accuracy_score(y_teste, previsao_knn))"
   ]
  },
  {
   "cell_type": "code",
   "execution_count": null,
   "metadata": {},
   "outputs": [],
   "source": [
    "#melhor é o modelo_arvoredecisao = 82,5% accuracy\n",
    "novos_clientes = pd.read_csv('novos_clientes.csv')\n",
    "#tratamento de transformar object em número\n",
    "novos_clientes['profissao'] = codificador.fit_transform(novos_clientes['profissao'])\n",
    "novos_clientes['mix_credito'] = codificador.fit_transform(novos_clientes['mix_credito'])\n",
    "novos_clientes['comportamento_pagamento'] = codificador.fit_transform(novos_clientes['comportamento_pagamento'])\n",
    "display(novos_clientes.info())\n",
    "\n",
    "previsao = modelo_arvoredecisao.predict(novos_clientes)\n",
    "print(previsao)"
   ]
  }
 ],
 "metadata": {
  "language_info": {
   "name": "python"
  },
  "orig_nbformat": 4
 },
 "nbformat": 4,
 "nbformat_minor": 2
}
